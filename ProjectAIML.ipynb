{
  "cells": [
    {
      "cell_type": "markdown",
      "metadata": {
        "id": "UX68xYBpdwS9"
      },
      "source": [
        "# Import the necessary Libraries"
      ]
    },
    {
      "cell_type": "code",
      "execution_count": null,
      "metadata": {
        "id": "wSMAtq8ydwS-"
      },
      "outputs": [],
      "source": [
        "import numpy as np\n",
        "import matplotlib.pyplot as plt\n",
        "import keras\n",
        "import tensorflow as tf\n",
        "\n",
        "from keras.datasets import mnist\n",
        "from keras.models import Sequential\n",
        "from keras.layers import Dense, Conv2D, MaxPool2D, Flatten, Dropout, Activation"
      ]
    },
    {
      "cell_type": "markdown",
      "metadata": {
        "id": "y4jDYvhpdwTA"
      },
      "source": [
        "## Get the data and pre-process it"
      ]
    },
    {
      "cell_type": "code",
      "execution_count": null,
      "metadata": {
        "id": "1w_EHitldwTB",
        "outputId": "901a3615-76f7-4d23-999c-fdeb24a4b8dd"
      },
      "outputs": [
        {
          "data": {
            "text/plain": [
              "<function keras.datasets.mnist.load_data(path='mnist.npz')>"
            ]
          },
          "execution_count": 2,
          "metadata": {},
          "output_type": "execute_result"
        }
      ],
      "source": [
        "mnist.load_data"
      ]
    },
    {
      "cell_type": "code",
      "execution_count": null,
      "metadata": {
        "id": "qD0aPrRadwTB",
        "outputId": "cabe23fc-6501-4dc6-d7db-604e3b093f9e"
      },
      "outputs": [
        {
          "name": "stdout",
          "output_type": "stream",
          "text": [
            "\u001b[1;31mSignature:\u001b[0m \u001b[0mmnist\u001b[0m\u001b[1;33m.\u001b[0m\u001b[0mload_data\u001b[0m\u001b[1;33m(\u001b[0m\u001b[0mpath\u001b[0m\u001b[1;33m=\u001b[0m\u001b[1;34m'mnist.npz'\u001b[0m\u001b[1;33m)\u001b[0m\u001b[1;33m\u001b[0m\u001b[1;33m\u001b[0m\u001b[0m\n",
            "\u001b[1;31mDocstring:\u001b[0m\n",
            "Loads the MNIST dataset.\n",
            "\n",
            "This is a dataset of 60,000 28x28 grayscale images of the 10 digits,\n",
            "along with a test set of 10,000 images.\n",
            "More info can be found at the\n",
            "[MNIST homepage](http://yann.lecun.com/exdb/mnist/).\n",
            "\n",
            "Args:\n",
            "  path: path where to cache the dataset locally\n",
            "    (relative to `~/.keras/datasets`).\n",
            "\n",
            "Returns:\n",
            "  Tuple of NumPy arrays: `(x_train, y_train), (x_test, y_test)`.\n",
            "\n",
            "**x_train**: uint8 NumPy array of grayscale image data with shapes\n",
            "  `(60000, 28, 28)`, containing the training data. Pixel values range\n",
            "  from 0 to 255.\n",
            "\n",
            "**y_train**: uint8 NumPy array of digit labels (integers in range 0-9)\n",
            "  with shape `(60000,)` for the training data.\n",
            "\n",
            "**x_test**: uint8 NumPy array of grayscale image data with shapes\n",
            "  (10000, 28, 28), containing the test data. Pixel values range\n",
            "  from 0 to 255.\n",
            "\n",
            "**y_test**: uint8 NumPy array of digit labels (integers in range 0-9)\n",
            "  with shape `(10000,)` for the test data.\n",
            "\n",
            "Example:\n",
            "\n",
            "```python\n",
            "(x_train, y_train), (x_test, y_test) = keras.datasets.mnist.load_data()\n",
            "assert x_train.shape == (60000, 28, 28)\n",
            "assert x_test.shape == (10000, 28, 28)\n",
            "assert y_train.shape == (60000,)\n",
            "assert y_test.shape == (10000,)\n",
            "```\n",
            "\n",
            "License:\n",
            "  Yann LeCun and Corinna Cortes hold the copyright of MNIST dataset,\n",
            "  which is a derivative work from original NIST datasets.\n",
            "  MNIST dataset is made available under the terms of the\n",
            "  [Creative Commons Attribution-Share Alike 3.0 license.](\n",
            "  https://creativecommons.org/licenses/by-sa/3.0/)\n",
            "\u001b[1;31mFile:\u001b[0m      c:\\users\\eswar\\appdata\\local\\programs\\python\\python310\\lib\\site-packages\\keras\\datasets\\mnist.py\n",
            "\u001b[1;31mType:\u001b[0m      function\n"
          ]
        }
      ],
      "source": [
        "mnist.load_data?"
      ]
    },
    {
      "cell_type": "code",
      "execution_count": null,
      "metadata": {
        "id": "QUKiNsWIdwTC",
        "outputId": "a76b6a31-8af3-4da6-f730-e68ee99585e8"
      },
      "outputs": [
        {
          "data": {
            "text/plain": [
              "((60000, 28, 28), (60000,), (10000, 28, 28), (10000,))"
            ]
          },
          "execution_count": 4,
          "metadata": {},
          "output_type": "execute_result"
        }
      ],
      "source": [
        "(X_train, y_train), (X_test, y_test) = mnist.load_data()\n",
        "X_train.shape , y_train.shape , X_test.shape , y_test.shape"
      ]
    },
    {
      "cell_type": "markdown",
      "metadata": {
        "id": "h4MKgbiGdwTC"
      },
      "source": [
        "## Visualization of dataset"
      ]
    },
    {
      "cell_type": "code",
      "execution_count": null,
      "metadata": {
        "id": "vdeuf1QndwTC"
      },
      "outputs": [],
      "source": [
        "def plot_input_img(i):\n",
        "    plt.imshow(X_train[i] , cmap=\"binary\")\n",
        "    plt.title(y_train[i])\n",
        "\n",
        "    plt.show()"
      ]
    },
    {
      "cell_type": "code",
      "execution_count": null,
      "metadata": {
        "id": "Up-Ar7DadwTD",
        "outputId": "aff563a6-4d48-483a-c9bd-82750cb1986b"
      },
      "outputs": [
        {
          "data": {
            "image/png": "[encoded data removed]",
            "text/plain": [
              "<Figure size 640x480 with 1 Axes>"
            ]
          },
          "metadata": {},
          "output_type": "display_data"
        },
        {
          "data": {
            "image/png": "[encoded data removed]",
            "text/plain": [
              "<Figure size 640x480 with 1 Axes>"
            ]
          },
          "metadata": {},
          "output_type": "display_data"
        }
      ],
      "source": [
        "for i in range(2):\n",
        "    plot_input_img(i)"
      ]
    },
    {
      "cell_type": "markdown",
      "metadata": {
        "id": "u2G-UP6sdwTD"
      },
      "source": [
        "## Checking the value of each pixel\n",
        "### Before Normalization\n"
      ]
    },
    {
      "cell_type": "code",
      "execution_count": null,
      "metadata": {
        "id": "CnCsPclLdwTD",
        "outputId": "85e3a1ef-7c6b-4781-9651-0dbee40ae2f0"
      },
      "outputs": [
        {
          "name": "stdout",
          "output_type": "stream",
          "text": [
            "[[  0   0   0   0   0   0   0   0   0   0   0   0   0   0   0   0   0   0\n",
            "    0   0   0   0   0   0   0   0   0   0]\n",
            " [  0   0   0   0   0   0   0   0   0   0   0   0   0   0   0   0   0   0\n",
            "    0   0   0   0   0   0   0   0   0   0]\n",
            " [  0   0   0   0   0   0   0   0   0   0   0   0   0   0   0   0   0   0\n",
            "    0   0   0   0   0   0   0   0   0   0]\n",
            " [  0   0   0   0   0   0   0   0   0   0   0   0   0   0   0   0   0   0\n",
            "    0   0   0   0   0   0   0   0   0   0]\n",
            " [  0   0   0   0   0   0   0   0   0   0   0   0   0   0   0   0   0   0\n",
            "    0   0   0   0   0   0   0   0   0   0]\n",
            " [  0   0   0   0   0   0   0   0   0   0   0   0   3  18  18  18 126 136\n",
            "  175  26 166 255 247 127   0   0   0   0]\n",
            " [  0   0   0   0   0   0   0   0  30  36  94 154 170 253 253 253 253 253\n",
            "  225 172 253 242 195  64   0   0   0   0]\n",
            " [  0   0   0   0   0   0   0  49 238 253 253 253 253 253 253 253 253 251\n",
            "   93  82  82  56  39   0   0   0   0   0]\n",
            " [  0   0   0   0   0   0   0  18 219 253 253 253 253 253 198 182 247 241\n",
            "    0   0   0   0   0   0   0   0   0   0]\n",
            " [  0   0   0   0   0   0   0   0  80 156 107 253 253 205  11   0  43 154\n",
            "    0   0   0   0   0   0   0   0   0   0]\n",
            " [  0   0   0   0   0   0   0   0   0  14   1 154 253  90   0   0   0   0\n",
            "    0   0   0   0   0   0   0   0   0   0]\n",
            " [  0   0   0   0   0   0   0   0   0   0   0 139 253 190   2   0   0   0\n",
            "    0   0   0   0   0   0   0   0   0   0]\n",
            " [  0   0   0   0   0   0   0   0   0   0   0  11 190 253  70   0   0   0\n",
            "    0   0   0   0   0   0   0   0   0   0]\n",
            " [  0   0   0   0   0   0   0   0   0   0   0   0  35 241 225 160 108   1\n",
            "    0   0   0   0   0   0   0   0   0   0]\n",
            " [  0   0   0   0   0   0   0   0   0   0   0   0   0  81 240 253 253 119\n",
            "   25   0   0   0   0   0   0   0   0   0]\n",
            " [  0   0   0   0   0   0   0   0   0   0   0   0   0   0  45 186 253 253\n",
            "  150  27   0   0   0   0   0   0   0   0]\n",
            " [  0   0   0   0   0   0   0   0   0   0   0   0   0   0   0  16  93 252\n",
            "  253 187   0   0   0   0   0   0   0   0]\n",
            " [  0   0   0   0   0   0   0   0   0   0   0   0   0   0   0   0   0 249\n",
            "  253 249  64   0   0   0   0   0   0   0]\n",
            " [  0   0   0   0   0   0   0   0   0   0   0   0   0   0  46 130 183 253\n",
            "  253 207   2   0   0   0   0   0   0   0]\n",
            " [  0   0   0   0   0   0   0   0   0   0   0   0  39 148 229 253 253 253\n",
            "  250 182   0   0   0   0   0   0   0   0]\n",
            " [  0   0   0   0   0   0   0   0   0   0  24 114 221 253 253 253 253 201\n",
            "   78   0   0   0   0   0   0   0   0   0]\n",
            " [  0   0   0   0   0   0   0   0  23  66 213 253 253 253 253 198  81   2\n",
            "    0   0   0   0   0   0   0   0   0   0]\n",
            " [  0   0   0   0   0   0  18 171 219 253 253 253 253 195  80   9   0   0\n",
            "    0   0   0   0   0   0   0   0   0   0]\n",
            " [  0   0   0   0  55 172 226 253 253 253 253 244 133  11   0   0   0   0\n",
            "    0   0   0   0   0   0   0   0   0   0]\n",
            " [  0   0   0   0 136 253 253 253 212 135 132  16   0   0   0   0   0   0\n",
            "    0   0   0   0   0   0   0   0   0   0]\n",
            " [  0   0   0   0   0   0   0   0   0   0   0   0   0   0   0   0   0   0\n",
            "    0   0   0   0   0   0   0   0   0   0]\n",
            " [  0   0   0   0   0   0   0   0   0   0   0   0   0   0   0   0   0   0\n",
            "    0   0   0   0   0   0   0   0   0   0]\n",
            " [  0   0   0   0   0   0   0   0   0   0   0   0   0   0   0   0   0   0\n",
            "    0   0   0   0   0   0   0   0   0   0]]\n"
          ]
        }
      ],
      "source": [
        "print(X_train[0])"
      ]
    },
    {
      "cell_type": "markdown",
      "metadata": {
        "id": "-l0LI01bdwTE"
      },
      "source": [
        "### Normalizing the data| Preprocessing step"
      ]
    },
    {
      "cell_type": "code",
      "execution_count": null,
      "metadata": {
        "id": "q260wxCBdwTE",
        "outputId": "6b6e9f1f-fc91-48dc-802e-b4130d217893"
      },
      "outputs": [
        {
          "data": {
            "text/plain": [
              "<matplotlib.image.AxesImage at 0x139642216c0>"
            ]
          },
          "execution_count": 8,
          "metadata": {},
          "output_type": "execute_result"
        },
        {
          "data": {
            "image/png": "[encoded data removed]",
            "text/plain": [
              "<Figure size 640x480 with 1 Axes>"
            ]
          },
          "metadata": {},
          "output_type": "display_data"
        }
      ],
      "source": [
        "X_train = tf.keras.utils.normalize(X_train, axis = 1)\n",
        "X_test = tf.keras.utils.normalize(X_test, axis = 1)\n",
        "plt.imshow(X_train[0], cmap = plt.cm.binary ) #0"
      ]
    },
    {
      "cell_type": "markdown",
      "metadata": {
        "id": "GkygHFgVdwTE"
      },
      "source": [
        "## After Noramlization"
      ]
    },
    {
      "cell_type": "code",
      "execution_count": null,
      "metadata": {
        "id": "M0EMSlm2dwTE",
        "outputId": "d7a4afe6-1eee-4b1d-a5cd-0cb0bd1163d3"
      },
      "outputs": [
        {
          "name": "stdout",
          "output_type": "stream",
          "text": [
            "[[0.         0.         0.         0.         0.         0.\n",
            "  0.         0.         0.         0.         0.         0.\n",
            "  0.         0.         0.         0.         0.         0.\n",
            "  0.         0.         0.         0.         0.         0.\n",
            "  0.         0.         0.         0.        ]\n",
            " [0.         0.         0.         0.         0.         0.\n",
            "  0.         0.         0.         0.         0.         0.\n",
            "  0.         0.         0.         0.         0.         0.\n",
            "  0.         0.         0.         0.         0.         0.\n",
            "  0.         0.         0.         0.        ]\n",
            " [0.         0.         0.         0.         0.         0.\n",
            "  0.         0.         0.         0.         0.         0.\n",
            "  0.         0.         0.         0.         0.         0.\n",
            "  0.         0.         0.         0.         0.         0.\n",
            "  0.         0.         0.         0.        ]\n",
            " [0.         0.         0.         0.         0.         0.\n",
            "  0.         0.         0.         0.         0.         0.\n",
            "  0.         0.         0.         0.         0.         0.\n",
            "  0.         0.         0.         0.         0.         0.\n",
            "  0.         0.         0.         0.        ]\n",
            " [0.         0.         0.         0.         0.         0.\n",
            "  0.         0.         0.         0.         0.         0.\n",
            "  0.         0.         0.         0.         0.         0.\n",
            "  0.         0.         0.         0.         0.         0.\n",
            "  0.         0.         0.         0.        ]\n",
            " [0.         0.         0.         0.         0.         0.\n",
            "  0.         0.         0.         0.         0.         0.\n",
            "  0.00393124 0.02332955 0.02620568 0.02625207 0.17420356 0.17566281\n",
            "  0.28629534 0.05664824 0.51877786 0.71632322 0.77892406 0.89301644\n",
            "  0.         0.         0.         0.        ]\n",
            " [0.         0.         0.         0.         0.         0.\n",
            "  0.         0.         0.05780486 0.06524513 0.16128198 0.22713296\n",
            "  0.22277047 0.32790981 0.36833534 0.3689874  0.34978968 0.32678448\n",
            "  0.368094   0.3747499  0.79066747 0.67980478 0.61494005 0.45002403\n",
            "  0.         0.         0.         0.        ]\n",
            " [0.         0.         0.         0.         0.         0.\n",
            "  0.         0.12250613 0.45858525 0.45852825 0.43408872 0.37314701\n",
            "  0.33153488 0.32790981 0.36833534 0.3689874  0.34978968 0.32420121\n",
            "  0.15214552 0.17865984 0.25626376 0.1573102  0.12298801 0.\n",
            "  0.         0.         0.         0.        ]\n",
            " [0.         0.         0.         0.         0.         0.\n",
            "  0.         0.04500225 0.4219755  0.45852825 0.43408872 0.37314701\n",
            "  0.33153488 0.32790981 0.28826244 0.26543758 0.34149427 0.31128482\n",
            "  0.         0.         0.         0.         0.         0.\n",
            "  0.         0.         0.         0.        ]\n",
            " [0.         0.         0.         0.         0.         0.\n",
            "  0.         0.         0.1541463  0.28272888 0.18358693 0.37314701\n",
            "  0.33153488 0.26569767 0.01601458 0.         0.05945042 0.19891229\n",
            "  0.         0.         0.         0.         0.         0.\n",
            "  0.         0.         0.         0.        ]\n",
            " [0.         0.         0.         0.         0.         0.\n",
            "  0.         0.         0.         0.0253731  0.00171577 0.22713296\n",
            "  0.33153488 0.11664776 0.         0.         0.         0.\n",
            "  0.         0.         0.         0.         0.         0.\n",
            "  0.         0.         0.         0.        ]\n",
            " [0.         0.         0.         0.         0.         0.\n",
            "  0.         0.         0.         0.         0.         0.20500962\n",
            "  0.33153488 0.24625638 0.00291174 0.         0.         0.\n",
            "  0.         0.         0.         0.         0.         0.\n",
            "  0.         0.         0.         0.        ]\n",
            " [0.         0.         0.         0.         0.         0.\n",
            "  0.         0.         0.         0.         0.         0.01622378\n",
            "  0.24897876 0.32790981 0.10191096 0.         0.         0.\n",
            "  0.         0.         0.         0.         0.         0.\n",
            "  0.         0.         0.         0.        ]\n",
            " [0.         0.         0.         0.         0.         0.\n",
            "  0.         0.         0.         0.         0.         0.\n",
            "  0.04586451 0.31235677 0.32757096 0.23335172 0.14931733 0.00129164\n",
            "  0.         0.         0.         0.         0.         0.\n",
            "  0.         0.         0.         0.        ]\n",
            " [0.         0.         0.         0.         0.         0.\n",
            "  0.         0.         0.         0.         0.         0.\n",
            "  0.         0.10498298 0.34940902 0.3689874  0.34978968 0.15370495\n",
            "  0.04089933 0.         0.         0.         0.         0.\n",
            "  0.         0.         0.         0.        ]\n",
            " [0.         0.         0.         0.         0.         0.\n",
            "  0.         0.         0.         0.         0.         0.\n",
            "  0.         0.         0.06551419 0.27127137 0.34978968 0.32678448\n",
            "  0.245396   0.05882702 0.         0.         0.         0.\n",
            "  0.         0.         0.         0.        ]\n",
            " [0.         0.         0.         0.         0.         0.\n",
            "  0.         0.         0.         0.         0.         0.\n",
            "  0.         0.         0.         0.02333517 0.12857881 0.32549285\n",
            "  0.41390126 0.40743158 0.         0.         0.         0.\n",
            "  0.         0.         0.         0.        ]\n",
            " [0.         0.         0.         0.         0.         0.\n",
            "  0.         0.         0.         0.         0.         0.\n",
            "  0.         0.         0.         0.         0.         0.32161793\n",
            "  0.41390126 0.54251585 0.20001074 0.         0.         0.\n",
            "  0.         0.         0.         0.        ]\n",
            " [0.         0.         0.         0.         0.         0.\n",
            "  0.         0.         0.         0.         0.         0.\n",
            "  0.         0.         0.06697006 0.18959827 0.25300993 0.32678448\n",
            "  0.41390126 0.45100715 0.00625034 0.         0.         0.\n",
            "  0.         0.         0.         0.        ]\n",
            " [0.         0.         0.         0.         0.         0.\n",
            "  0.         0.         0.         0.         0.         0.\n",
            "  0.05110617 0.19182076 0.33339444 0.3689874  0.34978968 0.32678448\n",
            "  0.40899334 0.39653769 0.         0.         0.         0.\n",
            "  0.         0.         0.         0.        ]\n",
            " [0.         0.         0.         0.         0.         0.\n",
            "  0.         0.         0.         0.         0.04117838 0.16813739\n",
            "  0.28960162 0.32790981 0.36833534 0.3689874  0.34978968 0.25961929\n",
            "  0.12760592 0.         0.         0.         0.         0.\n",
            "  0.         0.         0.         0.        ]\n",
            " [0.         0.         0.         0.         0.         0.\n",
            "  0.         0.         0.04431706 0.11961607 0.36545809 0.37314701\n",
            "  0.33153488 0.32790981 0.36833534 0.28877275 0.111988   0.00258328\n",
            "  0.         0.         0.         0.         0.         0.\n",
            "  0.         0.         0.         0.        ]\n",
            " [0.         0.         0.         0.         0.         0.\n",
            "  0.05298497 0.42752138 0.4219755  0.45852825 0.43408872 0.37314701\n",
            "  0.33153488 0.25273681 0.11646967 0.01312603 0.         0.\n",
            "  0.         0.         0.         0.         0.         0.\n",
            "  0.         0.         0.         0.        ]\n",
            " [0.         0.         0.         0.         0.37491383 0.56222061\n",
            "  0.66525569 0.63253163 0.48748768 0.45852825 0.43408872 0.359873\n",
            "  0.17428513 0.01425695 0.         0.         0.         0.\n",
            "  0.         0.         0.         0.         0.         0.\n",
            "  0.         0.         0.         0.        ]\n",
            " [0.         0.         0.         0.         0.92705966 0.82698729\n",
            "  0.74473314 0.63253163 0.4084877  0.24466922 0.22648107 0.02359823\n",
            "  0.         0.         0.         0.         0.         0.\n",
            "  0.         0.         0.         0.         0.         0.\n",
            "  0.         0.         0.         0.        ]\n",
            " [0.         0.         0.         0.         0.         0.\n",
            "  0.         0.         0.         0.         0.         0.\n",
            "  0.         0.         0.         0.         0.         0.\n",
            "  0.         0.         0.         0.         0.         0.\n",
            "  0.         0.         0.         0.        ]\n",
            " [0.         0.         0.         0.         0.         0.\n",
            "  0.         0.         0.         0.         0.         0.\n",
            "  0.         0.         0.         0.         0.         0.\n",
            "  0.         0.         0.         0.         0.         0.\n",
            "  0.         0.         0.         0.        ]\n",
            " [0.         0.         0.         0.         0.         0.\n",
            "  0.         0.         0.         0.         0.         0.\n",
            "  0.         0.         0.         0.         0.         0.\n",
            "  0.         0.         0.         0.         0.         0.\n",
            "  0.         0.         0.         0.        ]]\n"
          ]
        }
      ],
      "source": [
        "print(X_train[0]) # Data"
      ]
    },
    {
      "cell_type": "code",
      "execution_count": null,
      "metadata": {
        "id": "y25E2wJ3dwTE",
        "outputId": "44378e38-4fb1-4d74-c512-5dc7c7053108"
      },
      "outputs": [
        {
          "name": "stdout",
          "output_type": "stream",
          "text": [
            "5\n"
          ]
        }
      ],
      "source": [
        "print(y_train[0]) # Label"
      ]
    },
    {
      "cell_type": "markdown",
      "metadata": {
        "id": "ac54ztKYdwTE"
      },
      "source": [
        "## Re-sizing the image\n",
        "### To make it suitable for apply convolution operation"
      ]
    },
    {
      "cell_type": "code",
      "execution_count": null,
      "metadata": {
        "id": "v8vstRBCdwTE",
        "outputId": "7917eb89-6907-4c2a-ccc5-67c4e6a97a90"
      },
      "outputs": [
        {
          "name": "stdout",
          "output_type": "stream",
          "text": [
            "Training Samples Dimension (60000, 28, 28, 1)\n",
            "Testing Samples Dimension (10000, 28, 28, 1)\n"
          ]
        }
      ],
      "source": [
        "import numpy as np\n",
        "IMG_SIZE = 28\n",
        "X_trainr = np.array(X_train).reshape(-1, IMG_SIZE, IMG_SIZE, 1) # increasing one dimension for kernel operation\n",
        "X_testr = np.array(X_test).reshape(-1, IMG_SIZE, IMG_SIZE, 1)\n",
        "print(\"Training Samples Dimension\",X_trainr.shape)\n",
        "print(\"Testing Samples Dimension\",X_testr.shape)"
      ]
    },
    {
      "cell_type": "code",
      "execution_count": null,
      "metadata": {
        "id": "4oNH90IsdwTF",
        "outputId": "3077cfb5-747b-4ab2-c6eb-19f58427b89b"
      },
      "outputs": [
        {
          "data": {
            "text/plain": [
              "(60000, 28, 28)"
            ]
          },
          "execution_count": 12,
          "metadata": {},
          "output_type": "execute_result"
        }
      ],
      "source": [
        "X_train.shape"
      ]
    },
    {
      "cell_type": "markdown",
      "metadata": {
        "id": "_qEvcJURdwTF"
      },
      "source": [
        "## Creating a Deep Neural Network\n",
        "### Training on 60,000 samples on MNIST dataset"
      ]
    },
    {
      "cell_type": "code",
      "execution_count": null,
      "metadata": {
        "id": "4OMbgwbCdwTF"
      },
      "outputs": [],
      "source": [
        "model = Sequential()\n",
        "model.add(Conv2D(32, (3,3), input_shape =(28,28,1), activation= 'relu'))\n",
        "model.add(MaxPool2D((2,2)))\n",
        "\n",
        "model.add(Conv2D(64, (3,3), activation= 'relu'))\n",
        "model.add(MaxPool2D((2,2)))\n",
        "\n",
        "model.add(Flatten())\n",
        "\n",
        "model.add(Dropout(0.25))\n",
        "\n",
        "model.add(Dense(10,activation=\"softmax\"))"
      ]
    },
    {
      "cell_type": "code",
      "execution_count": null,
      "metadata": {
        "id": "Wj6D1TdidwTF",
        "outputId": "c072e005-128e-4f96-c7f9-8b6425b638ef"
      },
      "outputs": [
        {
          "name": "stdout",
          "output_type": "stream",
          "text": [
            "Model: \"sequential\"\n",
            "_________________________________________________________________\n",
            " Layer (type)                Output Shape              Param #   \n",
            "=================================================================\n",
            " conv2d (Conv2D)             (None, 26, 26, 32)        320       \n",
            "                                                                 \n",
            " max_pooling2d (MaxPooling2D  (None, 13, 13, 32)       0         \n",
            " )                                                               \n",
            "                                                                 \n",
            " conv2d_1 (Conv2D)           (None, 11, 11, 64)        18496     \n",
            "                                                                 \n",
            " max_pooling2d_1 (MaxPooling  (None, 5, 5, 64)         0         \n",
            " 2D)                                                             \n",
            "                                                                 \n",
            " flatten (Flatten)           (None, 1600)              0         \n",
            "                                                                 \n",
            " dropout (Dropout)           (None, 1600)              0         \n",
            "                                                                 \n",
            " dense (Dense)               (None, 10)                16010     \n",
            "                                                                 \n",
            "=================================================================\n",
            "Total params: 34,826\n",
            "Trainable params: 34,826\n",
            "Non-trainable params: 0\n",
            "_________________________________________________________________\n"
          ]
        }
      ],
      "source": [
        "model.summary()"
      ]
    },
    {
      "cell_type": "code",
      "execution_count": null,
      "metadata": {
        "id": "6pCynA1_dwTF",
        "outputId": "536a7eef-62b4-411a-b36f-472ab032603d"
      },
      "outputs": [
        {
          "name": "stdout",
          "output_type": "stream",
          "text": [
            "Total training Samples 60000\n"
          ]
        }
      ],
      "source": [
        "print(\"Total training Samples\",len(X_trainr))"
      ]
    },
    {
      "cell_type": "code",
      "execution_count": null,
      "metadata": {
        "id": "OFiJjmjjdwTF"
      },
      "outputs": [],
      "source": [
        "model.compile(loss=\"sparse_categorical_crossentropy\",optimizer=\"adam\", metrics=[\"accuracy\"])"
      ]
    },
    {
      "cell_type": "markdown",
      "metadata": {
        "id": "fZr7nltydwTF"
      },
      "source": [
        "### Training Step"
      ]
    },
    {
      "cell_type": "code",
      "execution_count": null,
      "metadata": {
        "id": "adludZP_dwTF",
        "outputId": "dd7d400d-88d1-4a73-e4c7-09a05b3e774a"
      },
      "outputs": [
        {
          "name": "stdout",
          "output_type": "stream",
          "text": [
            "Epoch 1/10\n",
            "1313/1313 [==============================] - 23s 17ms/step - loss: 0.2743 - accuracy: 0.9162 - val_loss: 0.1114 - val_accuracy: 0.9666\n",
            "Epoch 2/10\n",
            "1313/1313 [==============================] - 18s 14ms/step - loss: 0.0969 - accuracy: 0.9702 - val_loss: 0.0790 - val_accuracy: 0.9768\n",
            "Epoch 3/10\n",
            "1313/1313 [==============================] - 19s 14ms/step - loss: 0.0729 - accuracy: 0.9778 - val_loss: 0.0666 - val_accuracy: 0.9804\n",
            "Epoch 4/10\n",
            "1313/1313 [==============================] - 18s 14ms/step - loss: 0.0584 - accuracy: 0.9823 - val_loss: 0.0590 - val_accuracy: 0.9817\n",
            "Epoch 5/10\n",
            "1313/1313 [==============================] - 18s 14ms/step - loss: 0.0497 - accuracy: 0.9847 - val_loss: 0.0515 - val_accuracy: 0.9844\n",
            "Epoch 6/10\n",
            "1313/1313 [==============================] - 18s 14ms/step - loss: 0.0449 - accuracy: 0.9861 - val_loss: 0.0488 - val_accuracy: 0.9840\n",
            "Epoch 7/10\n",
            "1313/1313 [==============================] - 18s 14ms/step - loss: 0.0382 - accuracy: 0.9878 - val_loss: 0.0469 - val_accuracy: 0.9862\n",
            "Epoch 8/10\n",
            "1313/1313 [==============================] - 19s 14ms/step - loss: 0.0342 - accuracy: 0.9892 - val_loss: 0.0445 - val_accuracy: 0.9867\n",
            "Epoch 9/10\n",
            "1313/1313 [==============================] - 19s 14ms/step - loss: 0.0308 - accuracy: 0.9897 - val_loss: 0.0407 - val_accuracy: 0.9873\n",
            "Epoch 10/10\n",
            "1313/1313 [==============================] - 20s 15ms/step - loss: 0.0276 - accuracy: 0.9912 - val_loss: 0.0421 - val_accuracy: 0.9879\n"
          ]
        },
        {
          "data": {
            "text/plain": [
              "<keras.callbacks.History at 0x13963fdadd0>"
            ]
          },
          "execution_count": 17,
          "metadata": {},
          "output_type": "execute_result"
        }
      ],
      "source": [
        "model.fit(X_trainr , y_train, epochs=10, validation_split= 0.3)"
      ]
    },
    {
      "cell_type": "code",
      "execution_count": null,
      "metadata": {
        "id": "aHeJRugSdwTG",
        "outputId": "647fca85-c1e0-4170-fac2-b9f1047272e6"
      },
      "outputs": [
        {
          "name": "stdout",
          "output_type": "stream",
          "text": [
            "313/313 [==============================] - 2s 6ms/step - loss: 0.0366 - accuracy: 0.9878\n",
            "Test loss on 10,000 test samples 0.03661765903234482\n",
            "validation Accuracy on 10,000 Samples 0.9878000020980835\n"
          ]
        }
      ],
      "source": [
        "test_loss, test_acc = model.evaluate(X_testr , y_test)\n",
        "print(\"Test loss on 10,000 test samples\",test_loss)\n",
        "print(\"validation Accuracy on 10,000 Samples\", test_acc)"
      ]
    },
    {
      "cell_type": "code",
      "execution_count": null,
      "metadata": {
        "id": "qhoOJvcZdwTG",
        "outputId": "f577fb1c-c5b4-4ca4-da79-1b6033ef1e5d"
      },
      "outputs": [
        {
          "name": "stdout",
          "output_type": "stream",
          "text": [
            "313/313 [==============================] - 1s 4ms/step\n"
          ]
        }
      ],
      "source": [
        "predictions = model.predict([X_testr])"
      ]
    },
    {
      "cell_type": "code",
      "execution_count": null,
      "metadata": {
        "id": "Tf8gbjzMdwTG",
        "outputId": "ef66d716-4bb1-47ff-a856-d8e54d4ab899"
      },
      "outputs": [
        {
          "name": "stdout",
          "output_type": "stream",
          "text": [
            "[[1.79612003e-09 6.94719260e-09 1.81803341e-06 ... 9.99995351e-01\n",
            "  1.25313413e-08 2.08839978e-07]\n",
            " [3.25040048e-07 1.41401915e-05 9.99984980e-01 ... 1.41351731e-11\n",
            "  1.44149027e-07 5.33033470e-12]\n",
            " [4.07153200e-10 9.99979377e-01 1.93295802e-09 ... 2.34278536e-06\n",
            "  6.94373739e-07 1.07649058e-07]\n",
            " ...\n",
            " [8.28672864e-14 9.18432053e-10 1.31953736e-11 ... 7.41988657e-08\n",
            "  9.19951333e-08 1.48625475e-06]\n",
            " [2.26770802e-09 1.41952544e-13 7.37028234e-12 ... 4.97693629e-13\n",
            "  4.67969585e-05 6.84857726e-11]\n",
            " [2.59500098e-06 4.16259072e-09 2.28779591e-05 ... 3.80592849e-11\n",
            "  1.85808203e-05 1.27062194e-07]]\n"
          ]
        }
      ],
      "source": [
        "print(predictions)"
      ]
    },
    {
      "cell_type": "code",
      "execution_count": null,
      "metadata": {
        "id": "1P911nBqdwTG",
        "outputId": "3279214d-551c-4c9b-faed-f0356fa965f8"
      },
      "outputs": [
        {
          "name": "stdout",
          "output_type": "stream",
          "text": [
            "7\n"
          ]
        }
      ],
      "source": [
        "print(np.argmax(predictions[0]))"
      ]
    },
    {
      "cell_type": "code",
      "execution_count": null,
      "metadata": {
        "id": "2vdW1EfQdwTG",
        "outputId": "b5752643-1a64-44f3-9aef-16072e635edb"
      },
      "outputs": [
        {
          "data": {
            "text/plain": [
              "<matplotlib.image.AxesImage at 0x1392808ded0>"
            ]
          },
          "execution_count": 22,
          "metadata": {},
          "output_type": "execute_result"
        },
        {
          "data": {
            "image/png": "[encoded data removed]",
            "text/plain": [
              "<Figure size 640x480 with 1 Axes>"
            ]
          },
          "metadata": {},
          "output_type": "display_data"
        }
      ],
      "source": [
        "plt.imshow(X_test[0])"
      ]
    },
    {
      "cell_type": "code",
      "execution_count": null,
      "metadata": {
        "id": "L_tygBYDdwTG",
        "outputId": "71161291-a697-4d30-a209-363a6cf5cfca"
      },
      "outputs": [
        {
          "name": "stdout",
          "output_type": "stream",
          "text": [
            "8\n"
          ]
        }
      ],
      "source": [
        "print(np.argmax(predictions[128]))"
      ]
    },
    {
      "cell_type": "code",
      "execution_count": null,
      "metadata": {
        "id": "SzwWelcTdwTH",
        "outputId": "5a1332f3-af68-4b7c-cb74-383a9f6bdb51"
      },
      "outputs": [
        {
          "data": {
            "text/plain": [
              "<matplotlib.image.AxesImage at 0x139282c2560>"
            ]
          },
          "execution_count": 24,
          "metadata": {},
          "output_type": "execute_result"
        },
        {
          "data": {
            "image/png": "[encoded data removed]",
            "text/plain": [
              "<Figure size 640x480 with 1 Axes>"
            ]
          },
          "metadata": {},
          "output_type": "display_data"
        }
      ],
      "source": [
        "plt.imshow(X_test[128])"
      ]
    },
    {
      "cell_type": "code",
      "execution_count": null,
      "metadata": {
        "id": "XmwD8FCPdwTH"
      },
      "outputs": [],
      "source": [
        "#callbacks\n",
        "\n",
        "from keras.callbacks import EarlyStopping, ModelCheckpoint\n",
        "from keras.models.cloning import Model\n",
        "\n",
        "#Earlystopping\n",
        "es=EarlyStopping(monitor='test_acc', min_delta = 0.01, patience= 4, verbose= 1)\n",
        "\n",
        "#model check point\n",
        "\n",
        "mc = ModelCheckpoint(\"./best.h5\",monitor=\"test_acc\", verbose=1, save_best_only = True)\n",
        "\n",
        "cb = [es,mc]"
      ]
    },
    {
      "cell_type": "code",
      "execution_count": null,
      "metadata": {
        "id": "Siz0C_rmdwTH"
      },
      "outputs": [],
      "source": [
        "model.save('best.h5')"
      ]
    },
    {
      "cell_type": "code",
      "execution_count": null,
      "metadata": {
        "id": "u95GPTQRdwTI"
      },
      "outputs": [],
      "source": [
        "model_S = keras.models.load_model(\"C://Users//ESWAR//Downloads//best.h5\")"
      ]
    },
    {
      "cell_type": "markdown",
      "metadata": {
        "id": "1-jS-N6adwTI"
      },
      "source": [
        "# APP"
      ]
    },
    {
      "cell_type": "markdown",
      "metadata": {
        "id": "bBXnJ5xcdwTI"
      },
      "source": []
    },
    {
      "cell_type": "code",
      "execution_count": null,
      "metadata": {
        "id": "ewwokn7LdwTI",
        "outputId": "fdfbb85f-0559-4606-d0f2-0b2c57453792"
      },
      "outputs": [
        {
          "name": "stdout",
          "output_type": "stream",
          "text": [
            "pygame 2.1.2 (SDL 2.0.18, Python 3.10.6)\n",
            "Hello from the pygame community. https://www.pygame.org/contribute.html\n",
            "1/1 [==============================] - 0s 61ms/step\n",
            "1/1 [==============================] - 0s 18ms/step\n",
            "1/1 [==============================] - 0s 15ms/step\n",
            "1/1 [==============================] - 0s 17ms/step\n",
            "1/1 [==============================] - 0s 16ms/step\n",
            "1/1 [==============================] - 0s 14ms/step\n"
          ]
        },
        {
          "ename": "SystemExit",
          "evalue": "",
          "output_type": "error",
          "traceback": [
            "An exception has occurred, use %tb to see the full traceback.\n",
            "\u001b[1;31mSystemExit\u001b[0m\n"
          ]
        },
        {
          "name": "stderr",
          "output_type": "stream",
          "text": [
            "C:\\Users\\ESWAR\\AppData\\Roaming\\Python\\Python310\\site-packages\\IPython\\core\\interactiveshell.py:3406: UserWarning: To exit: use 'exit', 'quit', or Ctrl-D.\n",
            "  warn(\"To exit: use 'exit', 'quit', or Ctrl-D.\", stacklevel=1)\n"
          ]
        }
      ],
      "source": [
        "import pygame, sys\n",
        "from pygame.locals import *\n",
        "import numpy as np\n",
        "from keras.models import load_model\n",
        "import cv2\n",
        "\n",
        "WHITE = (255, 255, 255)\n",
        "BLACK = (0, 0, 0)\n",
        "RED = (255, 0, 0)\n",
        "WINDOWSIZEX = 640\n",
        "WINDOWSIZEY = 480\n",
        "BOUNDARYINC = 5\n",
        "IMAGESAVE = False\n",
        "MODEL = load_model(\"C://Users//ESWAR//Downloads//best.h5\")\n",
        "PREDICT = True\n",
        "LABELS = {0:\"zero\",1:\"one\",2:\"two\",3:\"three\",4:\"four\",5:\"five\",6:\"six\",7:\"seven\",8:\"eight\",9:\"nine\"}\n",
        "\n",
        "pygame.init()\n",
        "FONT = pygame.font.Font(\"freesansbold.ttf\", 18)\n",
        "DISPLAYSURF = pygame.display.set_mode((WINDOWSIZEX, WINDOWSIZEY))\n",
        "WHITE_INT = DISPLAYSURF.map_rgb(WHITE)\n",
        "pygame.display.set_caption(\"Digit Recognition\")\n",
        "DISPLAYSURF.fill(BLACK)\n",
        "iswriting = False\n",
        "number_xcord = []\n",
        "number_ycord = []\n",
        "image_cnt = 1\n",
        "while True:\n",
        "\tfor event in pygame.event.get():\n",
        "\t\tif event.type == QUIT:\n",
        "\t\t\tpygame.quit()\n",
        "\t\t\tsys.exit()\n",
        "\n",
        "\t\tif event.type == MOUSEMOTION and iswriting:\n",
        "\t\t\txcord, ycord = event.pos\n",
        "\t\t\tpygame.draw.circle(DISPLAYSURF, WHITE, (xcord, ycord), 4, 0)\n",
        "\t\t\tnumber_xcord.append(xcord)\n",
        "\t\t\tnumber_ycord.append(ycord)\n",
        "\n",
        "\t\tif event.type == MOUSEBUTTONDOWN:\n",
        "\t\t\tiswriting = True\n",
        "\n",
        "\t\tif event.type == MOUSEBUTTONUP:\n",
        "\t\t\tiswriting = False\n",
        "\t\t\tnumber_xcord = sorted(number_xcord)\n",
        "\t\t\tnumber_ycord = sorted(number_ycord)\n",
        "\t\t\trect_min_x, rect_max_x = max(number_xcord[0]-BOUNDARYINC, 0), min(WINDOWSIZEX, number_xcord[-1]+BOUNDARYINC)\n",
        "\t\t\trect_min_y, rect_max_y = max(0, number_ycord[0]-BOUNDARYINC), min(number_ycord[-1]+BOUNDARYINC, WINDOWSIZEY)\n",
        "\t\t\tnumber_xcord = []\n",
        "\t\t\tnumber_ycord = []\n",
        "\t\t\timg_arr = np.array(pygame.PixelArray(DISPLAYSURF))[rect_min_x:rect_max_x, rect_min_y:rect_max_y].T.astype(np.float32)\n",
        "\t\t\tif IMAGESAVE:\n",
        "\t\t\t\tcv2.imwrite(\"images/image-{%d}.png\" % image_cnt, img_arr)\n",
        "\t\t\t\timage_cnt+=1\n",
        "\t\t\tif PREDICT:\n",
        "\t\t\t\timage = cv2.resize(img_arr, (28, 28))\n",
        "\t\t\t\timage = np.pad(image, (10, 10), 'constant', constant_values=0)\n",
        "\t\t\t\timage = cv2.resize(image, (28, 28))/WHITE_INT\n",
        "\t\t\t\tlabel = str(LABELS[np.argmax(MODEL.predict(image.reshape((1,28,28,1))))]).title()\n",
        "\t\t\t\ttextSurfaceObj = FONT.render(label, True, RED, WHITE)\n",
        "\t\t\t\ttextRectObj = textSurfaceObj.get_rect()\n",
        "\t\t\t\ttextRectObj.left, textRectObj.bottom = rect_min_x, rect_min_y\n",
        "\t\t\t\tDISPLAYSURF.blit(textSurfaceObj, textRectObj)\n",
        "\t\t\tpygame.draw.rect(DISPLAYSURF, RED, (rect_min_x, rect_min_y,\n",
        "\t\t\t rect_max_x - rect_min_x, rect_max_y - rect_min_y), 3)\n",
        "\n",
        "\n",
        "\t\tif event.type == KEYDOWN:\n",
        "\t\t\tif event.unicode == \"n\":\n",
        "\t\t\t\tDISPLAYSURF.fill(BLACK)\n",
        "\tpygame.display.update()"
      ]
    },
    {
      "cell_type": "code",
      "execution_count": null,
      "metadata": {
        "id": "Ta47PSMOdwTS"
      },
      "outputs": [],
      "source": []
    },
    {
      "cell_type": "code",
      "execution_count": null,
      "metadata": {
        "id": "kHa0hAH8dwTS"
      },
      "outputs": [],
      "source": []
    },
    {
      "cell_type": "code",
      "execution_count": null,
      "metadata": {
        "id": "QLyCLJGJdwTT"
      },
      "outputs": [],
      "source": []
    }
  ],
  "metadata": {
    "colab": {
      "provenance": []
    },
    "kernelspec": {
      "display_name": "Python 3",
      "language": "python",
      "name": "python3"
    },
    "language_info": {
      "codemirror_mode": {
        "name": "ipython",
        "version": 3
      },
      "file_extension": ".py",
      "mimetype": "text/x-python",
      "name": "python",
      "nbconvert_exporter": "python",
      "pygments_lexer": "ipython3",
      "version": "3.10.6"
    },
    "vscode": {
      "interpreter": {
        "hash": "535b84f91e97ab2d21e211f9d010b8a022bea616f313c1df4b698ad79d5f58fb"
      }
    }
  },
  "nbformat": 4,
  "nbformat_minor": 0
}
